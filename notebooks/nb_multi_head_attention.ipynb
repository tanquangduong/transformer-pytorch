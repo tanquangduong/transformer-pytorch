{
 "cells": [
  {
   "cell_type": "code",
   "execution_count": null,
   "id": "026a1c97-385e-4da9-8cb9-7c53a61d645b",
   "metadata": {},
   "outputs": [],
   "source": [
    "import sys\n",
    "sys.path.append('../')\n",
    "import torch\n",
    "from transformer.layer import MultiHeadAttention\n",
    "\n",
    "# Initiate config\n",
    "batch_size=1\n",
    "seq_len=5\n",
    "d_model = 6\n",
    "h = 3\n",
    "dropout = 0.1\n",
    "\n",
    "# Create an instance of the MultiHeadAttention class\n",
    "multi_head_attention = MultiHeadAttention(d_model, h, dropout)\n",
    "\n",
    "# Create random tensors to represent a batch of sequences \n",
    "#for query, key, and value\n",
    "torch.manual_seed(68) # for reproducible result of random process\n",
    "input_tensor = torch.rand(batch_size, seq_len, d_model)\n",
    "\n",
    "# Copy input_tensor to new tensors: query, key, value. \n",
    "# Note that these are deep copies, \n",
    "#so changes to the new tensors will not affect the original tensor.\n",
    "query = input_tensor.clone()\n",
    "key = input_tensor.clone()\n",
    "value = input_tensor.clone()\n",
    "\n",
    "# Pass the tensors through the multi-head attention layer\n",
    "attention = multi_head_attention(query, key, value)\n",
    "\n",
    "print(\"attention: \\n\", attention)\n",
    "print(\"attention shape: \\n\", attention.shape)"
   ]
  }
 ],
 "metadata": {
  "kernelspec": {
   "display_name": "Python 3 (ipykernel)",
   "language": "python",
   "name": "python3"
  },
  "language_info": {
   "codemirror_mode": {
    "name": "ipython",
    "version": 3
   },
   "file_extension": ".py",
   "mimetype": "text/x-python",
   "name": "python",
   "nbconvert_exporter": "python",
   "pygments_lexer": "ipython3",
   "version": "3.10.14"
  }
 },
 "nbformat": 4,
 "nbformat_minor": 5
}
