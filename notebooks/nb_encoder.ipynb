{
 "cells": [
  {
   "cell_type": "code",
   "execution_count": 1,
   "id": "dc72f735-0d70-4c98-8228-40c3df14e536",
   "metadata": {},
   "outputs": [
    {
     "name": "stdout",
     "output_type": "stream",
     "text": [
      "Initial input tensor: \n",
      " tensor([[[0.3991, 0.5521, 0.1004, 0.2844, 0.9998, 0.7077],\n",
      "         [0.8031, 0.2066, 0.3589, 0.8509, 0.8753, 0.4669],\n",
      "         [0.6566, 0.6026, 0.2785, 0.1350, 0.2257, 0.9548],\n",
      "         [0.8214, 0.1386, 0.6055, 0.2300, 0.7895, 0.4098]]])\n",
      "Encoder Output: \n",
      " tensor([[[ 1.0930, -1.2889,  1.0448, -0.9931, -0.0949,  0.2390],\n",
      "         [ 1.1814, -1.7156,  0.7490, -0.1593, -0.2188,  0.1632],\n",
      "         [ 1.1841, -1.5939,  0.6714, -0.1398, -0.5992,  0.4774],\n",
      "         [ 0.6584, -1.7194,  1.2617, -0.0521, -0.0256, -0.1231]]],\n",
      "       grad_fn=<AddBackward0>)\n",
      "Encoder Output's shape: \n",
      " torch.Size([1, 4, 6])\n"
     ]
    }
   ],
   "source": [
    "import sys\n",
    "sys.path.append('../')\n",
    "import torch\n",
    "from transformer.layer import MultiHeadAttention, FeedForward, LayerNorm\n",
    "from transformer.encoder import EncoderLayer, Encoder\n",
    "\n",
    "# Define configuration\n",
    "d_model = 6 # feature dimension\n",
    "h = 3 #  number of heads\n",
    "dropout = 0.1 # dropout ratio\n",
    "d_ff = 2048 # the dimension of the feed forward network\n",
    "batch = 1 # batch size\n",
    "seq_len = 4 # sequence length\n",
    "\n",
    "num_layers = 3 # number of encoder layer\n",
    "\n",
    "# Create an instance of the MultiHeadAttention and FeedForward classes\n",
    "self_attention_engine = MultiHeadAttention(d_model, h, dropout)\n",
    "feed_forward = FeedForward(d_model, d_ff, dropout)  \n",
    "\n",
    "# Create an instance of the EncoderLayer class\n",
    "encoder_layer = EncoderLayer(d_model, self_attention_engine, feed_forward, dropout)\n",
    "\n",
    "# Create an instance of the Encoder class\n",
    "encoder = Encoder(d_model, encoder_layer, num_layers)\n",
    "\n",
    "# Create a random tensor to represent a batch of sequences\n",
    "torch.manual_seed(68) # for reproducible result of random process\n",
    "x = torch.rand(batch, seq_len, d_model)  \n",
    "\n",
    "# Pass the tensor through the encoder\n",
    "output = encoder(x)\n",
    "\n",
    "print(\"Initial input tensor: \\n\", x)\n",
    "print(\"Encoder Output: \\n\", output)\n",
    "print(\"Encoder Output's shape: \\n\", output.shape)  "
   ]
  },
  {
   "cell_type": "code",
   "execution_count": null,
   "id": "9704932e-9a31-41d4-94d7-2c39fc9d0281",
   "metadata": {},
   "outputs": [],
   "source": []
  }
 ],
 "metadata": {
  "kernelspec": {
   "display_name": "Python 3 (ipykernel)",
   "language": "python",
   "name": "python3"
  },
  "language_info": {
   "codemirror_mode": {
    "name": "ipython",
    "version": 3
   },
   "file_extension": ".py",
   "mimetype": "text/x-python",
   "name": "python",
   "nbconvert_exporter": "python",
   "pygments_lexer": "ipython3",
   "version": "3.10.14"
  }
 },
 "nbformat": 4,
 "nbformat_minor": 5
}
