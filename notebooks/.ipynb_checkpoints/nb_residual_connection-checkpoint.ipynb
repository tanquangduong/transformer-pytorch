{
 "cells": [
  {
   "cell_type": "code",
   "execution_count": 1,
   "id": "9d74ffb5-9e14-4348-bd61-b8f76a418725",
   "metadata": {},
   "outputs": [
    {
     "name": "stdout",
     "output_type": "stream",
     "text": [
      "Initial input tensor: \n",
      " tensor([[[0.3991, 0.5521, 0.1004, 0.2844, 0.9998],\n",
      "         [0.7077, 0.8031, 0.2066, 0.3589, 0.8509],\n",
      "         [0.8753, 0.4669, 0.6566, 0.6026, 0.2785]]])\n",
      "Output shape: \n",
      " torch.Size([1, 3, 5])\n",
      "Output: \n",
      " tensor([[[0.6128, 0.7442, 0.1584, 0.6634, 0.8705],\n",
      "         [0.7451, 0.7386, 0.2654, 0.4750, 0.6386],\n",
      "         [1.0747, 0.5623, 1.1740, 0.8459, 0.1029]]], grad_fn=<AddBackward0>)\n"
     ]
    }
   ],
   "source": [
    "import sys\n",
    "sys.path.append('../')\n",
    "import torch\n",
    "from transformer.layer import FeedForward, ResidualConnection\n",
    "\n",
    "# Initiate configuration\n",
    "d_model = 5\n",
    "d_ff=2048\n",
    "batch_size=1 \n",
    "seq_len=3\n",
    "dropout = 0.1\n",
    "\n",
    "# Create an instance of the ResidualConnection and FeedForward classes\n",
    "residual_connection = ResidualConnection(d_model, dropout)\n",
    "feed_forward = FeedForward(d_model, d_ff=d_ff, dropout=dropout)\n",
    "\n",
    "# Create a random tensor to represent a batch of sequences\n",
    "torch.manual_seed(68) # for reproducible result of random process\n",
    "x = torch.rand(batch_size, seq_len, d_model)  \n",
    "\n",
    "# Pass the tensor through the residual connection \n",
    "# with feed forward as the sublayer\n",
    "output = residual_connection(x, feed_forward)\n",
    "\n",
    "print(\"Initial input tensor: \\n\", x)\n",
    "print(\"Output shape: \\n\", output.shape) \n",
    "print(\"Output: \\n\", output)"
   ]
  },
  {
   "cell_type": "code",
   "execution_count": null,
   "id": "56bffec7-57e0-49e1-bae4-c17487cd40bf",
   "metadata": {},
   "outputs": [],
   "source": []
  }
 ],
 "metadata": {
  "kernelspec": {
   "display_name": "Python 3 (ipykernel)",
   "language": "python",
   "name": "python3"
  },
  "language_info": {
   "codemirror_mode": {
    "name": "ipython",
    "version": 3
   },
   "file_extension": ".py",
   "mimetype": "text/x-python",
   "name": "python",
   "nbconvert_exporter": "python",
   "pygments_lexer": "ipython3",
   "version": "3.10.14"
  }
 },
 "nbformat": 4,
 "nbformat_minor": 5
}
