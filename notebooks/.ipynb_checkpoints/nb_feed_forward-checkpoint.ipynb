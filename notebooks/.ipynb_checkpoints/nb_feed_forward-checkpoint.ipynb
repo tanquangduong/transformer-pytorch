{
 "cells": [
  {
   "cell_type": "code",
   "execution_count": 1,
   "id": "8b57ba1b-5291-4500-a80d-ff0d348766a6",
   "metadata": {},
   "outputs": [
    {
     "name": "stdout",
     "output_type": "stream",
     "text": [
      "Initial input tensor: \n",
      " tensor([[[0.3991, 0.5521, 0.1004, 0.2844, 0.9998],\n",
      "         [0.7077, 0.8031, 0.2066, 0.3589, 0.8509],\n",
      "         [0.8753, 0.4669, 0.6566, 0.6026, 0.2785],\n",
      "         [0.1350, 0.2257, 0.9548, 0.8214, 0.1386]]])\n",
      "Output: \n",
      " tensor([[[-0.0434,  0.0994, -0.0137, -0.1823, -0.1226],\n",
      "         [-0.0178,  0.0909, -0.1165, -0.1838, -0.1483],\n",
      "         [-0.2275,  0.1086, -0.1210, -0.1876, -0.0959],\n",
      "         [-0.0934, -0.0777, -0.0839, -0.2082, -0.0348]]],\n",
      "       grad_fn=<ViewBackward0>)\n",
      "Output's shape: \n",
      " torch.Size([1, 4, 5])\n"
     ]
    }
   ],
   "source": [
    "import sys\n",
    "sys.path.append('../')\n",
    "import torch\n",
    "from transformer.layer import FeedForward\n",
    "\n",
    "# Initiate configuration\n",
    "d_model = 5\n",
    "batch_size=1 \n",
    "seq_len=4\n",
    "d_ff = 2048\n",
    "dropout = 0.1\n",
    "\n",
    "# Create an instance of the FeedForward class\n",
    "ff = FeedForward(d_model, d_ff, dropout)\n",
    "\n",
    "# Create a random tensor to represent a batch of sequences\n",
    "torch.manual_seed(68) # for reproducible result of random process\n",
    "x = torch.rand(batch_size, seq_len, d_model)  \n",
    "\n",
    "# Pass the tensor through the feed-forward network\n",
    "output = ff(x)\n",
    "\n",
    "print(\"Initial input tensor: \\n\", x)\n",
    "print(\"Output: \\n\", output) \n",
    "print(\"Output's shape: \\n\", output.shape)  "
   ]
  },
  {
   "cell_type": "code",
   "execution_count": null,
   "id": "4b7d1396-3447-4d5e-8d27-25b4758d4aeb",
   "metadata": {},
   "outputs": [],
   "source": []
  }
 ],
 "metadata": {
  "kernelspec": {
   "display_name": "Python 3 (ipykernel)",
   "language": "python",
   "name": "python3"
  },
  "language_info": {
   "codemirror_mode": {
    "name": "ipython",
    "version": 3
   },
   "file_extension": ".py",
   "mimetype": "text/x-python",
   "name": "python",
   "nbconvert_exporter": "python",
   "pygments_lexer": "ipython3",
   "version": "3.10.14"
  }
 },
 "nbformat": 4,
 "nbformat_minor": 5
}
