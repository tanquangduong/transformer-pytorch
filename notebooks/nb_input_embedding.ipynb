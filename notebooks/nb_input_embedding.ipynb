{
 "cells": [
  {
   "cell_type": "code",
   "execution_count": 1,
   "id": "2f167b65-c583-4af5-8997-74bfe6be9405",
   "metadata": {},
   "outputs": [
    {
     "name": "stdout",
     "output_type": "stream",
     "text": [
      "embedded_sequences: \n",
      " tensor([[[-4.2954,  1.4308,  0.4681,  1.4243,  0.7128],\n",
      "         [-0.1412,  0.3921, -0.5610,  2.6776, -1.2464],\n",
      "         [-3.0547,  0.8094,  4.6443,  1.0975,  0.3855],\n",
      "         [ 0.3163, -1.3242,  4.0424,  2.5508, -2.7537]],\n",
      "\n",
      "        [[ 0.8301,  3.1658, -0.3615,  0.0403,  3.8064],\n",
      "         [-1.4601, -3.0628, -1.8523,  0.6500, -0.6269],\n",
      "         [ 0.3733, -0.4820, -1.4776,  3.5716,  1.7997],\n",
      "         [-1.6275,  1.1943, -0.6688, -1.7211, -4.2333]]],\n",
      "       grad_fn=<MulBackward0>)\n",
      "embedded_sequences shape: \n",
      " torch.Size([2, 4, 5])\n"
     ]
    }
   ],
   "source": [
    "import sys\n",
    "sys.path.append('../')\n",
    "import torch\n",
    "from transformer.layer import InputEmbedding\n",
    "\n",
    "# Initiate parammeters\n",
    "vocab_size = 10\n",
    "d_model = 5\n",
    "\n",
    "# Create an instance of our InputEmbedding class\n",
    "input_embedding = InputEmbedding(vocab_size, d_model)\n",
    "\n",
    "# Suppose we have the following batch of 2 sequences \n",
    "# Each sequence has 4 words (sequence length of 4)\n",
    "# The numbers represent the index of the word in the vocabulary\n",
    "sequences = torch.tensor([[1, 2, 3, 4], [5, 6, 7, 8]])\n",
    "\n",
    "# Pass our sequences through the input embedding\n",
    "embedded_sequences = input_embedding(sequences)\n",
    "\n",
    "print(\"embedded_sequences: \\n\", embedded_sequences)\n",
    "print(\"embedded_sequences shape: \\n\", embedded_sequences.shape) "
   ]
  },
  {
   "cell_type": "code",
   "execution_count": null,
   "id": "7c990fd7-30db-48c1-9f94-9d760f244354",
   "metadata": {},
   "outputs": [],
   "source": []
  }
 ],
 "metadata": {
  "kernelspec": {
   "display_name": "Python 3 (ipykernel)",
   "language": "python",
   "name": "python3"
  },
  "language_info": {
   "codemirror_mode": {
    "name": "ipython",
    "version": 3
   },
   "file_extension": ".py",
   "mimetype": "text/x-python",
   "name": "python",
   "nbconvert_exporter": "python",
   "pygments_lexer": "ipython3",
   "version": "3.10.14"
  }
 },
 "nbformat": 4,
 "nbformat_minor": 5
}
