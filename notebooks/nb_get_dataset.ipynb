{
 "cells": [
  {
   "cell_type": "code",
   "execution_count": 1,
   "id": "8ea2603d-cada-4483-8a97-9a1096cb50ce",
   "metadata": {},
   "outputs": [
    {
     "name": "stderr",
     "output_type": "stream",
     "text": [
      "C:\\Users\\easyb\\Anaconda3\\envs\\transformer\\lib\\site-packages\\tqdm\\auto.py:21: TqdmWarning: IProgress not found. Please update jupyter and ipywidgets. See https://ipywidgets.readthedocs.io/en/stable/user_install.html\n",
      "  from .autonotebook import tqdm as notebook_tqdm\n",
      "Generating train split: 100%|█████████████████████████████████████████████████████████████████████████████████| 209479/209479 [00:00<00:00, 932698.32 examples/s]\n"
     ]
    },
    {
     "name": "stdout",
     "output_type": "stream",
     "text": [
      "[{'en': '$10,000 Gold?', 'fr': 'L’or à 10.000 dollars l’once\\xa0?'}, {'en': 'SAN FRANCISCO – It has never been easy to have a rational conversation about the value of gold.', 'fr': 'SAN FRANCISCO – Il n’a jamais été facile d’avoir une discussion rationnelle sur la valeur du métal jaune.'}]\n"
     ]
    }
   ],
   "source": [
    "import sys\n",
    "sys.path.append('../')\n",
    "from transformer.utils import load_config, get_dataset\n",
    "\n",
    "## Load config\n",
    "config_file_path = \"../config.json\"\n",
    "config = load_config(config_file_path)\n",
    "\n",
    "# Load dataset\n",
    "dataset = get_dataset(config)\n",
    "print(dataset['translation'][:2])"
   ]
  },
  {
   "cell_type": "code",
   "execution_count": null,
   "id": "de0e1b5b-83fc-4d8c-89a7-cd17b2d25bca",
   "metadata": {},
   "outputs": [],
   "source": []
  }
 ],
 "metadata": {
  "kernelspec": {
   "display_name": "Python 3 (ipykernel)",
   "language": "python",
   "name": "python3"
  },
  "language_info": {
   "codemirror_mode": {
    "name": "ipython",
    "version": 3
   },
   "file_extension": ".py",
   "mimetype": "text/x-python",
   "name": "python",
   "nbconvert_exporter": "python",
   "pygments_lexer": "ipython3",
   "version": "3.10.14"
  }
 },
 "nbformat": 4,
 "nbformat_minor": 5
}
