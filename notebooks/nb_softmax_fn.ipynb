{
 "cells": [
  {
   "cell_type": "code",
   "execution_count": 1,
   "id": "afcc0910-4de7-4616-9d82-a4cbeabcd20b",
   "metadata": {},
   "outputs": [
    {
     "name": "stdout",
     "output_type": "stream",
     "text": [
      "input_tensor: \n",
      " tensor([0.1230, 0.2640,   -inf])\n",
      "output_tensor: \n",
      " tensor([0.4648, 0.5352, 0.0000])\n"
     ]
    }
   ],
   "source": [
    "import torch\n",
    "import numpy as np\n",
    "\n",
    "# create an input tensor\n",
    "input_tensor = torch.tensor([0.123, 0.264, -np.inf])\n",
    "\n",
    "# apply softmax to the input tensor to obtain the output tensor\n",
    "output_tensor = torch.softmax(input_tensor, dim=0)\n",
    "\n",
    "print(\"input_tensor: \\n\", input_tensor)\n",
    "print(\"output_tensor: \\n\", output_tensor)"
   ]
  },
  {
   "cell_type": "code",
   "execution_count": 2,
   "id": "e3caec26-8398-4282-9b69-65ad0919394c",
   "metadata": {},
   "outputs": [
    {
     "name": "stdout",
     "output_type": "stream",
     "text": [
      "input_tensor: \n",
      " tensor([1., 2., 4.])\n",
      "output_tensor: \n",
      " tensor([0.0420, 0.1142, 0.8438])\n"
     ]
    }
   ],
   "source": [
    "import torch\n",
    "import numpy as np\n",
    "\n",
    "# create an input tensor\n",
    "input_tensor = torch.tensor([1.0, 2.0, 4.0])\n",
    "\n",
    "# apply softmax to the input tensor to obtain the output tensor\n",
    "output_tensor = torch.softmax(input_tensor, dim=0)\n",
    "\n",
    "print(\"input_tensor: \\n\", input_tensor)\n",
    "print(\"output_tensor: \\n\", output_tensor)"
   ]
  },
  {
   "cell_type": "code",
   "execution_count": null,
   "id": "582d94a6-c92f-45dc-9553-40d28270b407",
   "metadata": {},
   "outputs": [],
   "source": []
  }
 ],
 "metadata": {
  "kernelspec": {
   "display_name": "Python 3 (ipykernel)",
   "language": "python",
   "name": "python3"
  },
  "language_info": {
   "codemirror_mode": {
    "name": "ipython",
    "version": 3
   },
   "file_extension": ".py",
   "mimetype": "text/x-python",
   "name": "python",
   "nbconvert_exporter": "python",
   "pygments_lexer": "ipython3",
   "version": "3.10.14"
  }
 },
 "nbformat": 4,
 "nbformat_minor": 5
}
